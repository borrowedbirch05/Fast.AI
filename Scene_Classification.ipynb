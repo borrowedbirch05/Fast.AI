{
  "cells": [
    {
      "cell_type": "markdown",
      "metadata": {
        "id": "view-in-github",
        "colab_type": "text"
      },
      "source": [
        "<a href=\"https://colab.research.google.com/github/borrowedbirch05/Fast.AI/blob/main/Scene_Classification.ipynb\" target=\"_parent\"><img src=\"https://colab.research.google.com/assets/colab-badge.svg\" alt=\"Open In Colab\"/></a>"
      ]
    },
    {
      "cell_type": "code",
      "execution_count": null,
      "metadata": {
        "execution": {
          "iopub.execute_input": "2024-06-04T00:20:35.880821Z",
          "iopub.status.busy": "2024-06-04T00:20:35.880229Z",
          "iopub.status.idle": "2024-06-04T00:20:39.247541Z",
          "shell.execute_reply": "2024-06-04T00:20:39.246487Z",
          "shell.execute_reply.started": "2024-06-04T00:20:35.880660Z"
        },
        "id": "MX73dB1aqi-R",
        "outputId": "695c79d9-1562-42ef-b2ed-557de60625d6"
      },
      "outputs": [
        {
          "name": "stdout",
          "output_type": "stream",
          "text": [
            "--2024-06-04 00:20:36--  https://faculty.cc.gatech.edu/~hays/compvision2021fall/projects/proj4_data.zip\n",
            "Resolving faculty.cc.gatech.edu (faculty.cc.gatech.edu)... 130.207.7.122\n",
            "Connecting to faculty.cc.gatech.edu (faculty.cc.gatech.edu)|130.207.7.122|:443... connected.\n",
            "HTTP request sent, awaiting response... 200 OK\n",
            "Length: 86460586 (82M) [application/zip]\n",
            "Saving to: ‘data.zip’\n",
            "\n",
            "data.zip            100%[===================>]  82.46M  78.2MB/s    in 1.1s    \n",
            "\n",
            "2024-06-04 00:20:37 (78.2 MB/s) - ‘data.zip’ saved [86460586/86460586]\n",
            "\n"
          ]
        }
      ],
      "source": [
        "!wget \"https://faculty.cc.gatech.edu/~hays/compvision2021fall/projects/proj4_data.zip\" --no-check-certificate -O data.zip && unzip -qq data.zip"
      ]
    },
    {
      "cell_type": "code",
      "execution_count": null,
      "metadata": {
        "execution": {
          "iopub.execute_input": "2024-06-04T00:20:41.504643Z",
          "iopub.status.busy": "2024-06-04T00:20:41.503387Z",
          "iopub.status.idle": "2024-06-04T00:20:51.608811Z",
          "shell.execute_reply": "2024-06-04T00:20:51.607549Z",
          "shell.execute_reply.started": "2024-06-04T00:20:41.504590Z"
        },
        "id": "40366Iy1pBUe"
      },
      "outputs": [],
      "source": [
        "#hide\n",
        "! [ -e /content ] && pip install -Uqq fastbook\n",
        "import fastbook\n",
        "fastbook.setup_book()"
      ]
    },
    {
      "cell_type": "code",
      "execution_count": null,
      "metadata": {
        "execution": {
          "iopub.execute_input": "2024-06-04T00:20:56.987399Z",
          "iopub.status.busy": "2024-06-04T00:20:56.986250Z",
          "iopub.status.idle": "2024-06-04T00:20:56.993499Z",
          "shell.execute_reply": "2024-06-04T00:20:56.992139Z",
          "shell.execute_reply.started": "2024-06-04T00:20:56.987359Z"
        },
        "id": "9rAQEpeuuUic"
      },
      "outputs": [],
      "source": [
        "from fastbook import *"
      ]
    },
    {
      "cell_type": "markdown",
      "metadata": {
        "id": "PuYstY2yUdwT"
      },
      "source": [
        "#Kaggle Dataset Download"
      ]
    },
    {
      "cell_type": "code",
      "execution_count": null,
      "metadata": {
        "execution": {
          "iopub.execute_input": "2024-05-28T21:23:16.019060Z",
          "iopub.status.busy": "2024-05-28T21:23:16.018666Z",
          "iopub.status.idle": "2024-05-28T21:23:21.346140Z",
          "shell.execute_reply": "2024-05-28T21:23:21.345291Z",
          "shell.execute_reply.started": "2024-05-28T21:23:16.019030Z"
        },
        "id": "O2yIJ-HMSArJ",
        "outputId": "8bcfd6b2-9959-4ef5-9283-23a0f126b818"
      },
      "outputs": [
        {
          "name": "stdout",
          "output_type": "stream",
          "text": [
            "\u001b[33mWARNING: Running pip as the 'root' user can result in broken permissions and conflicting behaviour with the system package manager. It is recommended to use a virtual environment instead: https://pip.pypa.io/warnings/venv\u001b[0m\u001b[33m\n",
            "\u001b[0m"
          ]
        }
      ],
      "source": [
        "! pip install -q kaggle"
      ]
    },
    {
      "cell_type": "code",
      "execution_count": null,
      "metadata": {
        "id": "3akcVgjKTkvK"
      },
      "outputs": [],
      "source": [
        "from google.colab import files"
      ]
    },
    {
      "cell_type": "code",
      "execution_count": null,
      "metadata": {
        "colab": {
          "base_uri": "https://localhost:8080/",
          "height": 90
        },
        "id": "eIEDIsu0TnWg",
        "outputId": "bd274ec3-5d17-4806-fdf0-75f5b46f940c"
      },
      "outputs": [
        {
          "data": {
            "text/html": [
              "\n",
              "     <input type=\"file\" id=\"files-174133a9-f813-4451-8aed-37272376589a\" name=\"files[]\" multiple disabled\n",
              "        style=\"border:none\" />\n",
              "     <output id=\"result-174133a9-f813-4451-8aed-37272376589a\">\n",
              "      Upload widget is only available when the cell has been executed in the\n",
              "      current browser session. Please rerun this cell to enable.\n",
              "      </output>\n",
              "      <script>// Copyright 2017 Google LLC\n",
              "//\n",
              "// Licensed under the Apache License, Version 2.0 (the \"License\");\n",
              "// you may not use this file except in compliance with the License.\n",
              "// You may obtain a copy of the License at\n",
              "//\n",
              "//      http://www.apache.org/licenses/LICENSE-2.0\n",
              "//\n",
              "// Unless required by applicable law or agreed to in writing, software\n",
              "// distributed under the License is distributed on an \"AS IS\" BASIS,\n",
              "// WITHOUT WARRANTIES OR CONDITIONS OF ANY KIND, either express or implied.\n",
              "// See the License for the specific language governing permissions and\n",
              "// limitations under the License.\n",
              "\n",
              "/**\n",
              " * @fileoverview Helpers for google.colab Python module.\n",
              " */\n",
              "(function(scope) {\n",
              "function span(text, styleAttributes = {}) {\n",
              "  const element = document.createElement('span');\n",
              "  element.textContent = text;\n",
              "  for (const key of Object.keys(styleAttributes)) {\n",
              "    element.style[key] = styleAttributes[key];\n",
              "  }\n",
              "  return element;\n",
              "}\n",
              "\n",
              "// Max number of bytes which will be uploaded at a time.\n",
              "const MAX_PAYLOAD_SIZE = 100 * 1024;\n",
              "\n",
              "function _uploadFiles(inputId, outputId) {\n",
              "  const steps = uploadFilesStep(inputId, outputId);\n",
              "  const outputElement = document.getElementById(outputId);\n",
              "  // Cache steps on the outputElement to make it available for the next call\n",
              "  // to uploadFilesContinue from Python.\n",
              "  outputElement.steps = steps;\n",
              "\n",
              "  return _uploadFilesContinue(outputId);\n",
              "}\n",
              "\n",
              "// This is roughly an async generator (not supported in the browser yet),\n",
              "// where there are multiple asynchronous steps and the Python side is going\n",
              "// to poll for completion of each step.\n",
              "// This uses a Promise to block the python side on completion of each step,\n",
              "// then passes the result of the previous step as the input to the next step.\n",
              "function _uploadFilesContinue(outputId) {\n",
              "  const outputElement = document.getElementById(outputId);\n",
              "  const steps = outputElement.steps;\n",
              "\n",
              "  const next = steps.next(outputElement.lastPromiseValue);\n",
              "  return Promise.resolve(next.value.promise).then((value) => {\n",
              "    // Cache the last promise value to make it available to the next\n",
              "    // step of the generator.\n",
              "    outputElement.lastPromiseValue = value;\n",
              "    return next.value.response;\n",
              "  });\n",
              "}\n",
              "\n",
              "/**\n",
              " * Generator function which is called between each async step of the upload\n",
              " * process.\n",
              " * @param {string} inputId Element ID of the input file picker element.\n",
              " * @param {string} outputId Element ID of the output display.\n",
              " * @return {!Iterable<!Object>} Iterable of next steps.\n",
              " */\n",
              "function* uploadFilesStep(inputId, outputId) {\n",
              "  const inputElement = document.getElementById(inputId);\n",
              "  inputElement.disabled = false;\n",
              "\n",
              "  const outputElement = document.getElementById(outputId);\n",
              "  outputElement.innerHTML = '';\n",
              "\n",
              "  const pickedPromise = new Promise((resolve) => {\n",
              "    inputElement.addEventListener('change', (e) => {\n",
              "      resolve(e.target.files);\n",
              "    });\n",
              "  });\n",
              "\n",
              "  const cancel = document.createElement('button');\n",
              "  inputElement.parentElement.appendChild(cancel);\n",
              "  cancel.textContent = 'Cancel upload';\n",
              "  const cancelPromise = new Promise((resolve) => {\n",
              "    cancel.onclick = () => {\n",
              "      resolve(null);\n",
              "    };\n",
              "  });\n",
              "\n",
              "  // Wait for the user to pick the files.\n",
              "  const files = yield {\n",
              "    promise: Promise.race([pickedPromise, cancelPromise]),\n",
              "    response: {\n",
              "      action: 'starting',\n",
              "    }\n",
              "  };\n",
              "\n",
              "  cancel.remove();\n",
              "\n",
              "  // Disable the input element since further picks are not allowed.\n",
              "  inputElement.disabled = true;\n",
              "\n",
              "  if (!files) {\n",
              "    return {\n",
              "      response: {\n",
              "        action: 'complete',\n",
              "      }\n",
              "    };\n",
              "  }\n",
              "\n",
              "  for (const file of files) {\n",
              "    const li = document.createElement('li');\n",
              "    li.append(span(file.name, {fontWeight: 'bold'}));\n",
              "    li.append(span(\n",
              "        `(${file.type || 'n/a'}) - ${file.size} bytes, ` +\n",
              "        `last modified: ${\n",
              "            file.lastModifiedDate ? file.lastModifiedDate.toLocaleDateString() :\n",
              "                                    'n/a'} - `));\n",
              "    const percent = span('0% done');\n",
              "    li.appendChild(percent);\n",
              "\n",
              "    outputElement.appendChild(li);\n",
              "\n",
              "    const fileDataPromise = new Promise((resolve) => {\n",
              "      const reader = new FileReader();\n",
              "      reader.onload = (e) => {\n",
              "        resolve(e.target.result);\n",
              "      };\n",
              "      reader.readAsArrayBuffer(file);\n",
              "    });\n",
              "    // Wait for the data to be ready.\n",
              "    let fileData = yield {\n",
              "      promise: fileDataPromise,\n",
              "      response: {\n",
              "        action: 'continue',\n",
              "      }\n",
              "    };\n",
              "\n",
              "    // Use a chunked sending to avoid message size limits. See b/62115660.\n",
              "    let position = 0;\n",
              "    do {\n",
              "      const length = Math.min(fileData.byteLength - position, MAX_PAYLOAD_SIZE);\n",
              "      const chunk = new Uint8Array(fileData, position, length);\n",
              "      position += length;\n",
              "\n",
              "      const base64 = btoa(String.fromCharCode.apply(null, chunk));\n",
              "      yield {\n",
              "        response: {\n",
              "          action: 'append',\n",
              "          file: file.name,\n",
              "          data: base64,\n",
              "        },\n",
              "      };\n",
              "\n",
              "      let percentDone = fileData.byteLength === 0 ?\n",
              "          100 :\n",
              "          Math.round((position / fileData.byteLength) * 100);\n",
              "      percent.textContent = `${percentDone}% done`;\n",
              "\n",
              "    } while (position < fileData.byteLength);\n",
              "  }\n",
              "\n",
              "  // All done.\n",
              "  yield {\n",
              "    response: {\n",
              "      action: 'complete',\n",
              "    }\n",
              "  };\n",
              "}\n",
              "\n",
              "scope.google = scope.google || {};\n",
              "scope.google.colab = scope.google.colab || {};\n",
              "scope.google.colab._files = {\n",
              "  _uploadFiles,\n",
              "  _uploadFilesContinue,\n",
              "};\n",
              "})(self);\n",
              "</script> "
            ],
            "text/plain": [
              "<IPython.core.display.HTML object>"
            ]
          },
          "metadata": {},
          "output_type": "display_data"
        },
        {
          "name": "stdout",
          "output_type": "stream",
          "text": [
            "Saving kaggle.json to kaggle.json\n"
          ]
        },
        {
          "data": {
            "text/plain": [
              "{'kaggle.json': b'{\"username\":\"borrowedbirch05\",\"key\":\"f22eb1da055f262928827f504c424775\"}'}"
            ]
          },
          "execution_count": 5,
          "metadata": {},
          "output_type": "execute_result"
        }
      ],
      "source": [
        "files.upload()"
      ]
    },
    {
      "cell_type": "code",
      "execution_count": null,
      "metadata": {
        "execution": {
          "iopub.execute_input": "2024-05-28T21:23:32.409677Z",
          "iopub.status.busy": "2024-05-28T21:23:32.409286Z",
          "iopub.status.idle": "2024-05-28T21:23:32.865378Z",
          "shell.execute_reply": "2024-05-28T21:23:32.864196Z",
          "shell.execute_reply.started": "2024-05-28T21:23:32.409645Z"
        },
        "id": "Wfs2WLCGTpU6",
        "outputId": "9cad832c-4881-4b9b-a9fd-c7a7f83374c8"
      },
      "outputs": [
        {
          "name": "stdout",
          "output_type": "stream",
          "text": [
            "mkdir: cannot create directory ‘/root/.kaggle’: File exists\n"
          ]
        }
      ],
      "source": [
        "! mkdir ~/.kaggle"
      ]
    },
    {
      "cell_type": "code",
      "execution_count": null,
      "metadata": {
        "execution": {
          "iopub.execute_input": "2024-05-29T17:32:54.325835Z",
          "iopub.status.busy": "2024-05-29T17:32:54.325497Z",
          "iopub.status.idle": "2024-05-29T17:32:54.772845Z",
          "shell.execute_reply": "2024-05-29T17:32:54.771752Z",
          "shell.execute_reply.started": "2024-05-29T17:32:54.325807Z"
        },
        "id": "1lRe6RO_UUWc"
      },
      "outputs": [],
      "source": [
        "! cp kaggle.json ~/.kaggle/"
      ]
    },
    {
      "cell_type": "code",
      "execution_count": null,
      "metadata": {
        "execution": {
          "iopub.execute_input": "2024-05-28T21:23:36.863677Z",
          "iopub.status.busy": "2024-05-28T21:23:36.862535Z",
          "iopub.status.idle": "2024-05-28T21:23:37.343955Z",
          "shell.execute_reply": "2024-05-28T21:23:37.342578Z",
          "shell.execute_reply.started": "2024-05-28T21:23:36.863628Z"
        },
        "id": "RMsX3GvrTvvI"
      },
      "outputs": [],
      "source": [
        "! chmod 600 ~/.kaggle/kaggle.json"
      ]
    },
    {
      "cell_type": "code",
      "execution_count": null,
      "metadata": {
        "colab": {
          "base_uri": "https://localhost:8080/"
        },
        "execution": {
          "iopub.execute_input": "2024-05-29T17:33:28.403961Z",
          "iopub.status.busy": "2024-05-29T17:33:28.403480Z",
          "iopub.status.idle": "2024-05-29T17:33:29.402801Z",
          "shell.execute_reply": "2024-05-29T17:33:29.401728Z",
          "shell.execute_reply.started": "2024-05-29T17:33:28.403917Z"
        },
        "id": "Co72kLLKTxwf",
        "outputId": "d0f8b1e1-fe6a-472d-90f9-74af605c680d"
      },
      "outputs": [
        {
          "name": "stdout",
          "output_type": "stream",
          "text": [
            "ref                                                        title                                               size  lastUpdated          downloadCount  voteCount  usabilityRating  \n",
            "---------------------------------------------------------  -------------------------------------------------  -----  -------------------  -------------  ---------  ---------------  \n",
            "prasad22/vehicle-population-statistics                     Vehicle Population Statistics                       44KB  2024-05-25 03:31:34            776         25  1.0              \n",
            "rohit265/credit-card-eligibility-data-determining-factors  Credit Card Eligibility Data: Determining Factors  296KB  2024-05-18 11:31:28            992         23  1.0              \n",
            "rahulvyasm/netflix-movies-and-tv-shows                     Netflix Movies and TV Shows                          1MB  2024-04-10 09:48:38          25738        551  1.0              \n",
            "mayankanand2701/netflix-stock-price-dataset                Netflix Stock Price Dataset 🎥🍿🎬📊                   107KB  2024-05-25 06:59:35            690         31  1.0              \n",
            "prasad22/weather-data                                      Weather Data                                        43MB  2024-05-18 14:27:35           1854         46  1.0              \n",
            "jainaru/thyroid-disease-data                               Thyroid Disease Data                                 3KB  2024-05-10 12:06:31           3604         85  1.0              \n",
            "jainaru/dog-breeds-ranking-best-to-worst                   Dog breeds ranked 🐕🐾                                 4KB  2024-05-18 13:28:47            797         33  1.0              \n",
            "emirhanai/social-media-usage-and-emotional-well-being      Social Media Usage and Emotional Well-Being          8KB  2024-05-19 18:25:52           2177         43  1.0              \n",
            "zeesolver/spotfy                                           Spotify Songs Album                                 47KB  2024-05-10 09:21:57           2189         33  1.0              \n",
            "dem0nking/video-game-ratings-dataset                       Video Game Ratings Dataset                           2KB  2024-05-23 18:06:30            588         25  1.0              \n",
            "sahirmaharajj/school-student-daily-attendance              School Student Daily Attendance                      2MB  2024-04-29 19:29:56           7268        148  1.0              \n",
            "bhargavlc/studentsperformance                              StudentsPerformance                                  3KB  2024-05-28 09:44:50           1109         24  1.0              \n",
            "vladimirmijatovic/biggest-companies-in-the-world           Biggest Companies in the World                     189KB  2024-05-16 13:39:09            655         29  1.0              \n",
            "amanbarthwal/imdb-movies-data                              IMDB Movies Dataset                                  8MB  2024-05-16 18:43:48           2032         36  1.0              \n",
            "girumwondemagegn/dataset-for-renewable-energy-systems      Dataset for renewable energy systems               853KB  2024-05-17 23:51:25           1256         32  1.0              \n",
            "sahilnbajaj/marketing-campaigns-data-set                   Marketing Campaigns Data Set                        61KB  2024-05-04 04:19:58            959         22  1.0              \n",
            "mayankanand2701/zomato-stock-price-dataset                 Zomato Stock Price Dataset 📊🍗🏨🍴                     13KB  2024-05-23 06:42:34           1043         27  1.0              \n",
            "jainaru/world-happiness-report-2024-yearly-updated         World Happiness Report- 2024                        62KB  2024-05-15 19:04:34           2854         47  1.0              \n",
            "jainaru/electric-vehicle-population                        Electric Vehicle Data                                6MB  2024-05-21 18:40:16           1178         33  1.0              \n",
            "kanchana1990/perfume-e-commerce-dataset-2024               Perfume E-Commerce Dataset 2024                    106KB  2024-05-24 18:53:32            707         30  1.0              \n"
          ]
        }
      ],
      "source": [
        "! kaggle datasets list"
      ]
    },
    {
      "cell_type": "code",
      "execution_count": null,
      "metadata": {
        "colab": {
          "base_uri": "https://localhost:8080/"
        },
        "execution": {
          "iopub.execute_input": "2024-05-28T21:10:41.746515Z",
          "iopub.status.busy": "2024-05-28T21:10:41.746020Z",
          "iopub.status.idle": "2024-05-28T21:11:03.662490Z",
          "shell.execute_reply": "2024-05-28T21:11:03.660883Z",
          "shell.execute_reply.started": "2024-05-28T21:10:41.746476Z"
        },
        "id": "ZHdokZ45UxYA",
        "outputId": "362929ae-26e6-4b29-d3bd-cc8cfb11c9af"
      },
      "outputs": [
        {
          "name": "stdout",
          "output_type": "stream",
          "text": [
            "Dataset URL: https://www.kaggle.com/datasets/gpiosenka/100-bird-species\n",
            "License(s): CC0-1.0\n",
            "Downloading 100-bird-species.zip to /notebooks/Projects\n",
            "100%|██████████████████████████████████████▉| 1.95G/1.96G [00:20<00:00, 119MB/s]\n",
            "100%|███████████████████████████████████████| 1.96G/1.96G [00:20<00:00, 102MB/s]\n"
          ]
        }
      ],
      "source": [
        "!kaggle datasets download -d gpiosenka/100-bird-species"
      ]
    },
    {
      "cell_type": "markdown",
      "metadata": {
        "id": "seh73UXiVwFP"
      },
      "source": [
        "#Creating Dataloader Object"
      ]
    },
    {
      "cell_type": "code",
      "execution_count": null,
      "metadata": {
        "execution": {
          "iopub.execute_input": "2024-06-04T00:21:14.264248Z",
          "iopub.status.busy": "2024-06-04T00:21:14.263819Z",
          "iopub.status.idle": "2024-06-04T00:21:14.269174Z",
          "shell.execute_reply": "2024-06-04T00:21:14.267957Z",
          "shell.execute_reply.started": "2024-06-04T00:21:14.264223Z"
        },
        "id": "HVv_Lfg-Vy7j"
      },
      "outputs": [],
      "source": [
        "path = Path('./data')"
      ]
    },
    {
      "cell_type": "code",
      "execution_count": null,
      "metadata": {
        "execution": {
          "iopub.execute_input": "2024-06-04T00:21:14.870910Z",
          "iopub.status.busy": "2024-06-04T00:21:14.869875Z",
          "iopub.status.idle": "2024-06-04T00:21:14.883117Z",
          "shell.execute_reply": "2024-06-04T00:21:14.882059Z",
          "shell.execute_reply.started": "2024-06-04T00:21:14.870849Z"
        },
        "id": "NDrpZOocqi-a",
        "outputId": "44522944-8d97-449c-e349-ba1743d460c1"
      },
      "outputs": [
        {
          "data": {
            "text/plain": [
              "Path('data')"
            ]
          },
          "execution_count": 5,
          "metadata": {},
          "output_type": "execute_result"
        }
      ],
      "source": [
        "path"
      ]
    },
    {
      "cell_type": "code",
      "execution_count": null,
      "metadata": {
        "execution": {
          "iopub.execute_input": "2024-06-04T00:21:20.238658Z",
          "iopub.status.busy": "2024-06-04T00:21:20.238143Z",
          "iopub.status.idle": "2024-06-04T00:21:20.244179Z",
          "shell.execute_reply": "2024-06-04T00:21:20.242887Z",
          "shell.execute_reply.started": "2024-06-04T00:21:20.238622Z"
        },
        "id": "gRsUcUC1V_Ci"
      },
      "outputs": [],
      "source": [
        "Path.BASE_PATH = path"
      ]
    },
    {
      "cell_type": "code",
      "execution_count": null,
      "metadata": {
        "colab": {
          "base_uri": "https://localhost:8080/"
        },
        "execution": {
          "iopub.execute_input": "2024-06-04T00:21:21.457006Z",
          "iopub.status.busy": "2024-06-04T00:21:21.456492Z",
          "iopub.status.idle": "2024-06-04T00:21:21.470279Z",
          "shell.execute_reply": "2024-06-04T00:21:21.468481Z",
          "shell.execute_reply.started": "2024-06-04T00:21:21.456966Z"
        },
        "id": "OaPK4HgeV_xF",
        "outputId": "ff748ac6-21fd-4a38-e960-3b9a7ef44f0d"
      },
      "outputs": [
        {
          "data": {
            "text/plain": [
              "(#15) [Path('train/street'),Path('train/mountain'),Path('train/suburb'),Path('train/opencountry'),Path('train/store'),Path('train/office'),Path('train/industrial'),Path('train/insidecity'),Path('train/kitchen'),Path('train/tallbuilding')...]"
            ]
          },
          "execution_count": 7,
          "metadata": {},
          "output_type": "execute_result"
        }
      ],
      "source": [
        "(path/'train').ls()"
      ]
    },
    {
      "cell_type": "code",
      "execution_count": null,
      "metadata": {
        "execution": {
          "iopub.execute_input": "2024-06-04T00:21:29.953823Z",
          "iopub.status.busy": "2024-06-04T00:21:29.952861Z",
          "iopub.status.idle": "2024-06-04T00:21:35.609883Z",
          "shell.execute_reply": "2024-06-04T00:21:35.608307Z",
          "shell.execute_reply.started": "2024-06-04T00:21:29.953778Z"
        },
        "id": "sLxtD5lsWFSW"
      },
      "outputs": [],
      "source": [
        "imgs = DataBlock(blocks = (ImageBlock, CategoryBlock),\n",
        "                 get_items=get_image_files,\n",
        "                 splitter=GrandparentSplitter(train_name='train', valid_name='test'),\n",
        "                 get_y=parent_label,\n",
        "                 item_tfms=Resize(460),\n",
        "                 batch_tfms=aug_transforms(size=224, min_scale=0.75))\n",
        "dls = imgs.dataloaders(path)"
      ]
    },
    {
      "cell_type": "code",
      "execution_count": null,
      "metadata": {
        "colab": {
          "base_uri": "https://localhost:8080/",
          "height": 145
        },
        "execution": {
          "iopub.execute_input": "2024-06-04T00:21:35.612710Z",
          "iopub.status.busy": "2024-06-04T00:21:35.612226Z",
          "iopub.status.idle": "2024-06-04T00:21:36.476001Z",
          "shell.execute_reply": "2024-06-04T00:21:36.475174Z",
          "shell.execute_reply.started": "2024-06-04T00:21:35.612670Z"
        },
        "id": "jaA1Sp7XWzjR",
        "outputId": "3ff91d45-3ecc-47e3-8212-473552251ab0"
      },
      "outputs": [
        {
          "data": {
            "image/png": "[encoded data removed]",
            "text/plain": [
              "<Figure size 1080x216 with 5 Axes>"
            ]
          },
          "metadata": {
            "needs_background": "light"
          },
          "output_type": "display_data"
        }
      ],
      "source": [
        "dls.show_batch(nrows=1, ncols=5)"
      ]
    },
    {
      "cell_type": "code",
      "execution_count": null,
      "metadata": {
        "execution": {
          "iopub.execute_input": "2024-06-04T00:22:04.228692Z",
          "iopub.status.busy": "2024-06-04T00:22:04.227872Z",
          "iopub.status.idle": "2024-06-04T00:22:05.542723Z",
          "shell.execute_reply": "2024-06-04T00:22:05.541879Z",
          "shell.execute_reply.started": "2024-06-04T00:22:04.228662Z"
        },
        "id": "c_NSOcXbW4BA"
      },
      "outputs": [],
      "source": [
        "learn = vision_learner(dls, resnet50, metrics=accuracy)"
      ]
    },
    {
      "cell_type": "code",
      "execution_count": null,
      "metadata": {
        "execution": {
          "iopub.execute_input": "2024-06-04T00:22:08.529672Z",
          "iopub.status.busy": "2024-06-04T00:22:08.528878Z",
          "iopub.status.idle": "2024-06-04T00:22:58.866308Z",
          "shell.execute_reply": "2024-06-04T00:22:58.864848Z",
          "shell.execute_reply.started": "2024-06-04T00:22:08.529627Z"
        },
        "id": "ADS3Z_hTqi-b",
        "outputId": "4c244fc8-7b7d-420e-8303-c3c231dfc37d"
      },
      "outputs": [
        {
          "data": {
            "text/html": [
              "\n",
              "<style>\n",
              "    /* Turns off some styling */\n",
              "    progress {\n",
              "        /* gets rid of default border in Firefox and Opera. */\n",
              "        border: none;\n",
              "        /* Needs to be in here for Safari polyfill so background images work as expected. */\n",
              "        background-size: auto;\n",
              "    }\n",
              "    progress:not([value]), progress:not([value])::-webkit-progress-bar {\n",
              "        background: repeating-linear-gradient(45deg, #7e7e7e, #7e7e7e 10px, #5c5c5c 10px, #5c5c5c 20px);\n",
              "    }\n",
              "    .progress-bar-interrupted, .progress-bar-interrupted::-webkit-progress-bar {\n",
              "        background: #F44336;\n",
              "    }\n",
              "</style>\n"
            ],
            "text/plain": [
              "<IPython.core.display.HTML object>"
            ]
          },
          "metadata": {},
          "output_type": "display_data"
        },
        {
          "data": {
            "text/html": [],
            "text/plain": [
              "<IPython.core.display.HTML object>"
            ]
          },
          "metadata": {},
          "output_type": "display_data"
        },
        {
          "data": {
            "image/png": "[encoded data removed]",
            "text/plain": [
              "<Figure size 432x288 with 1 Axes>"
            ]
          },
          "metadata": {
            "needs_background": "light"
          },
          "output_type": "display_data"
        }
      ],
      "source": [
        "lr_min,lr_steep = learn.lr_find(suggest_funcs=(minimum, steep))\n"
      ]
    },
    {
      "cell_type": "code",
      "execution_count": null,
      "metadata": {
        "execution": {
          "iopub.execute_input": "2024-06-04T00:23:07.386323Z",
          "iopub.status.busy": "2024-06-04T00:23:07.385924Z",
          "iopub.status.idle": "2024-06-04T00:23:07.391779Z",
          "shell.execute_reply": "2024-06-04T00:23:07.390646Z",
          "shell.execute_reply.started": "2024-06-04T00:23:07.386297Z"
        },
        "id": "GYxF9f_iqi-b",
        "outputId": "7925230a-4b85-4826-f2cf-1482cfdcc6db"
      },
      "outputs": [
        {
          "name": "stdout",
          "output_type": "stream",
          "text": [
            "Minimum/10: 6.92e-03, steepest point: 1.45e-03\n"
          ]
        }
      ],
      "source": [
        "print(f\"Minimum/10: {lr_min:.2e}, steepest point: {lr_steep:.2e}\")"
      ]
    },
    {
      "cell_type": "code",
      "execution_count": null,
      "metadata": {
        "execution": {
          "iopub.execute_input": "2024-06-04T00:23:14.901692Z",
          "iopub.status.busy": "2024-06-04T00:23:14.901285Z",
          "iopub.status.idle": "2024-06-04T00:24:43.935928Z",
          "shell.execute_reply": "2024-06-04T00:24:43.934676Z",
          "shell.execute_reply.started": "2024-06-04T00:23:14.901664Z"
        },
        "id": "eY-TnvPOqi-b",
        "outputId": "0d1b2ea2-c0e7-4d29-c04e-7a84f336fa7a"
      },
      "outputs": [
        {
          "data": {
            "text/html": [
              "\n",
              "<style>\n",
              "    /* Turns off some styling */\n",
              "    progress {\n",
              "        /* gets rid of default border in Firefox and Opera. */\n",
              "        border: none;\n",
              "        /* Needs to be in here for Safari polyfill so background images work as expected. */\n",
              "        background-size: auto;\n",
              "    }\n",
              "    progress:not([value]), progress:not([value])::-webkit-progress-bar {\n",
              "        background: repeating-linear-gradient(45deg, #7e7e7e, #7e7e7e 10px, #5c5c5c 10px, #5c5c5c 20px);\n",
              "    }\n",
              "    .progress-bar-interrupted, .progress-bar-interrupted::-webkit-progress-bar {\n",
              "        background: #F44336;\n",
              "    }\n",
              "</style>\n"
            ],
            "text/plain": [
              "<IPython.core.display.HTML object>"
            ]
          },
          "metadata": {},
          "output_type": "display_data"
        },
        {
          "data": {
            "text/html": [
              "<table border=\"1\" class=\"dataframe\">\n",
              "  <thead>\n",
              "    <tr style=\"text-align: left;\">\n",
              "      <th>epoch</th>\n",
              "      <th>train_loss</th>\n",
              "      <th>valid_loss</th>\n",
              "      <th>accuracy</th>\n",
              "      <th>time</th>\n",
              "    </tr>\n",
              "  </thead>\n",
              "  <tbody>\n",
              "    <tr>\n",
              "      <td>0</td>\n",
              "      <td>1.323493</td>\n",
              "      <td>0.408237</td>\n",
              "      <td>0.863333</td>\n",
              "      <td>00:29</td>\n",
              "    </tr>\n",
              "    <tr>\n",
              "      <td>1</td>\n",
              "      <td>0.688276</td>\n",
              "      <td>0.305238</td>\n",
              "      <td>0.894667</td>\n",
              "      <td>00:29</td>\n",
              "    </tr>\n",
              "    <tr>\n",
              "      <td>2</td>\n",
              "      <td>0.452909</td>\n",
              "      <td>0.290528</td>\n",
              "      <td>0.906667</td>\n",
              "      <td>00:29</td>\n",
              "    </tr>\n",
              "  </tbody>\n",
              "</table>"
            ],
            "text/plain": [
              "<IPython.core.display.HTML object>"
            ]
          },
          "metadata": {},
          "output_type": "display_data"
        }
      ],
      "source": [
        "learn.fit_one_cycle(3, 1e-3)"
      ]
    },
    {
      "cell_type": "code",
      "execution_count": null,
      "metadata": {
        "execution": {
          "iopub.execute_input": "2024-06-04T00:24:43.938520Z",
          "iopub.status.busy": "2024-06-04T00:24:43.938197Z",
          "iopub.status.idle": "2024-06-04T00:24:43.945957Z",
          "shell.execute_reply": "2024-06-04T00:24:43.944509Z",
          "shell.execute_reply.started": "2024-06-04T00:24:43.938493Z"
        },
        "id": "5mY6zEMuqi-b"
      },
      "outputs": [],
      "source": [
        "learn.unfreeze()"
      ]
    },
    {
      "cell_type": "code",
      "execution_count": null,
      "metadata": {
        "execution": {
          "iopub.execute_input": "2024-06-04T00:24:43.948413Z",
          "iopub.status.busy": "2024-06-04T00:24:43.948009Z",
          "iopub.status.idle": "2024-06-04T00:25:34.524802Z",
          "shell.execute_reply": "2024-06-04T00:25:34.523639Z",
          "shell.execute_reply.started": "2024-06-04T00:24:43.948378Z"
        },
        "id": "nbN1BxObqi-c",
        "outputId": "51e40a57-4f9c-406e-8d7c-41d36549d174"
      },
      "outputs": [
        {
          "data": {
            "text/html": [
              "\n",
              "<style>\n",
              "    /* Turns off some styling */\n",
              "    progress {\n",
              "        /* gets rid of default border in Firefox and Opera. */\n",
              "        border: none;\n",
              "        /* Needs to be in here for Safari polyfill so background images work as expected. */\n",
              "        background-size: auto;\n",
              "    }\n",
              "    progress:not([value]), progress:not([value])::-webkit-progress-bar {\n",
              "        background: repeating-linear-gradient(45deg, #7e7e7e, #7e7e7e 10px, #5c5c5c 10px, #5c5c5c 20px);\n",
              "    }\n",
              "    .progress-bar-interrupted, .progress-bar-interrupted::-webkit-progress-bar {\n",
              "        background: #F44336;\n",
              "    }\n",
              "</style>\n"
            ],
            "text/plain": [
              "<IPython.core.display.HTML object>"
            ]
          },
          "metadata": {},
          "output_type": "display_data"
        },
        {
          "data": {
            "text/html": [],
            "text/plain": [
              "<IPython.core.display.HTML object>"
            ]
          },
          "metadata": {},
          "output_type": "display_data"
        },
        {
          "data": {
            "text/plain": [
              "SuggestedLRs(valley=4.365158383734524e-05)"
            ]
          },
          "execution_count": 17,
          "metadata": {},
          "output_type": "execute_result"
        },
        {
          "data": {
            "image/png": "[encoded data removed]",
            "text/plain": [
              "<Figure size 432x288 with 1 Axes>"
            ]
          },
          "metadata": {
            "needs_background": "light"
          },
          "output_type": "display_data"
        }
      ],
      "source": [
        "learn.lr_find()"
      ]
    },
    {
      "cell_type": "code",
      "execution_count": null,
      "metadata": {
        "execution": {
          "iopub.execute_input": "2024-06-04T00:25:42.810830Z",
          "iopub.status.busy": "2024-06-04T00:25:42.809883Z",
          "iopub.status.idle": "2024-06-04T00:31:59.364185Z",
          "shell.execute_reply": "2024-06-04T00:31:59.361687Z",
          "shell.execute_reply.started": "2024-06-04T00:25:42.810791Z"
        },
        "id": "IB4Gqosxqi-c",
        "outputId": "98cc7f6f-5fa3-4a03-e4b9-89bf933be4ce"
      },
      "outputs": [
        {
          "data": {
            "text/html": [
              "\n",
              "<style>\n",
              "    /* Turns off some styling */\n",
              "    progress {\n",
              "        /* gets rid of default border in Firefox and Opera. */\n",
              "        border: none;\n",
              "        /* Needs to be in here for Safari polyfill so background images work as expected. */\n",
              "        background-size: auto;\n",
              "    }\n",
              "    progress:not([value]), progress:not([value])::-webkit-progress-bar {\n",
              "        background: repeating-linear-gradient(45deg, #7e7e7e, #7e7e7e 10px, #5c5c5c 10px, #5c5c5c 20px);\n",
              "    }\n",
              "    .progress-bar-interrupted, .progress-bar-interrupted::-webkit-progress-bar {\n",
              "        background: #F44336;\n",
              "    }\n",
              "</style>\n"
            ],
            "text/plain": [
              "<IPython.core.display.HTML object>"
            ]
          },
          "metadata": {},
          "output_type": "display_data"
        },
        {
          "data": {
            "text/html": [
              "<table border=\"1\" class=\"dataframe\">\n",
              "  <thead>\n",
              "    <tr style=\"text-align: left;\">\n",
              "      <th>epoch</th>\n",
              "      <th>train_loss</th>\n",
              "      <th>valid_loss</th>\n",
              "      <th>accuracy</th>\n",
              "      <th>time</th>\n",
              "    </tr>\n",
              "  </thead>\n",
              "  <tbody>\n",
              "    <tr>\n",
              "      <td>0</td>\n",
              "      <td>0.275309</td>\n",
              "      <td>0.272211</td>\n",
              "      <td>0.914000</td>\n",
              "      <td>00:37</td>\n",
              "    </tr>\n",
              "    <tr>\n",
              "      <td>1</td>\n",
              "      <td>0.264023</td>\n",
              "      <td>0.240186</td>\n",
              "      <td>0.920667</td>\n",
              "      <td>00:37</td>\n",
              "    </tr>\n",
              "    <tr>\n",
              "      <td>2</td>\n",
              "      <td>0.212343</td>\n",
              "      <td>0.255021</td>\n",
              "      <td>0.922667</td>\n",
              "      <td>00:37</td>\n",
              "    </tr>\n",
              "    <tr>\n",
              "      <td>3</td>\n",
              "      <td>0.167084</td>\n",
              "      <td>0.253421</td>\n",
              "      <td>0.918000</td>\n",
              "      <td>00:38</td>\n",
              "    </tr>\n",
              "    <tr>\n",
              "      <td>4</td>\n",
              "      <td>0.136848</td>\n",
              "      <td>0.256494</td>\n",
              "      <td>0.919333</td>\n",
              "      <td>00:37</td>\n",
              "    </tr>\n",
              "    <tr>\n",
              "      <td>5</td>\n",
              "      <td>0.108568</td>\n",
              "      <td>0.203911</td>\n",
              "      <td>0.932667</td>\n",
              "      <td>00:37</td>\n",
              "    </tr>\n",
              "    <tr>\n",
              "      <td>6</td>\n",
              "      <td>0.088884</td>\n",
              "      <td>0.198187</td>\n",
              "      <td>0.936667</td>\n",
              "      <td>00:37</td>\n",
              "    </tr>\n",
              "    <tr>\n",
              "      <td>7</td>\n",
              "      <td>0.074119</td>\n",
              "      <td>0.198271</td>\n",
              "      <td>0.936000</td>\n",
              "      <td>00:37</td>\n",
              "    </tr>\n",
              "    <tr>\n",
              "      <td>8</td>\n",
              "      <td>0.064894</td>\n",
              "      <td>0.199799</td>\n",
              "      <td>0.935333</td>\n",
              "      <td>00:38</td>\n",
              "    </tr>\n",
              "    <tr>\n",
              "      <td>9</td>\n",
              "      <td>0.055402</td>\n",
              "      <td>0.198118</td>\n",
              "      <td>0.934667</td>\n",
              "      <td>00:37</td>\n",
              "    </tr>\n",
              "  </tbody>\n",
              "</table>"
            ],
            "text/plain": [
              "<IPython.core.display.HTML object>"
            ]
          },
          "metadata": {},
          "output_type": "display_data"
        }
      ],
      "source": [
        "learn.fit_one_cycle(10, lr_max=4e-5)"
      ]
    },
    {
      "cell_type": "code",
      "execution_count": null,
      "metadata": {
        "execution": {
          "iopub.execute_input": "2024-05-29T20:07:13.504821Z",
          "iopub.status.busy": "2024-05-29T20:07:13.504431Z",
          "iopub.status.idle": "2024-05-29T20:07:23.796384Z",
          "shell.execute_reply": "2024-05-29T20:07:23.795224Z",
          "shell.execute_reply.started": "2024-05-29T20:07:13.504777Z"
        },
        "id": "mmpL4uNnqi-c",
        "outputId": "f87f62bd-1f5b-4a1d-bcc3-8fc2cc6aa3fb"
      },
      "outputs": [
        {
          "data": {
            "text/html": [
              "\n",
              "<style>\n",
              "    /* Turns off some styling */\n",
              "    progress {\n",
              "        /* gets rid of default border in Firefox and Opera. */\n",
              "        border: none;\n",
              "        /* Needs to be in here for Safari polyfill so background images work as expected. */\n",
              "        background-size: auto;\n",
              "    }\n",
              "    progress:not([value]), progress:not([value])::-webkit-progress-bar {\n",
              "        background: repeating-linear-gradient(45deg, #7e7e7e, #7e7e7e 10px, #5c5c5c 10px, #5c5c5c 20px);\n",
              "    }\n",
              "    .progress-bar-interrupted, .progress-bar-interrupted::-webkit-progress-bar {\n",
              "        background: #F44336;\n",
              "    }\n",
              "</style>\n"
            ],
            "text/plain": [
              "<IPython.core.display.HTML object>"
            ]
          },
          "metadata": {},
          "output_type": "display_data"
        },
        {
          "data": {
            "text/html": [],
            "text/plain": [
              "<IPython.core.display.HTML object>"
            ]
          },
          "metadata": {},
          "output_type": "display_data"
        },
        {
          "data": {
            "text/html": [
              "\n",
              "<style>\n",
              "    /* Turns off some styling */\n",
              "    progress {\n",
              "        /* gets rid of default border in Firefox and Opera. */\n",
              "        border: none;\n",
              "        /* Needs to be in here for Safari polyfill so background images work as expected. */\n",
              "        background-size: auto;\n",
              "    }\n",
              "    progress:not([value]), progress:not([value])::-webkit-progress-bar {\n",
              "        background: repeating-linear-gradient(45deg, #7e7e7e, #7e7e7e 10px, #5c5c5c 10px, #5c5c5c 20px);\n",
              "    }\n",
              "    .progress-bar-interrupted, .progress-bar-interrupted::-webkit-progress-bar {\n",
              "        background: #F44336;\n",
              "    }\n",
              "</style>\n"
            ],
            "text/plain": [
              "<IPython.core.display.HTML object>"
            ]
          },
          "metadata": {},
          "output_type": "display_data"
        },
        {
          "data": {
            "text/html": [],
            "text/plain": [
              "<IPython.core.display.HTML object>"
            ]
          },
          "metadata": {},
          "output_type": "display_data"
        },
        {
          "data": {
            "image/png": "[encoded data removed]",
            "text/plain": [
              "<Figure size 720x720 with 1 Axes>"
            ]
          },
          "metadata": {
            "needs_background": "light"
          },
          "output_type": "display_data"
        }
      ],
      "source": [
        "interp = ClassificationInterpretation.from_learner(learn)\n",
        "interp.plot_confusion_matrix(figsize=(12,12), dpi=60)"
      ]
    },
    {
      "cell_type": "code",
      "execution_count": null,
      "metadata": {
        "execution": {
          "iopub.execute_input": "2024-05-29T20:07:59.821741Z",
          "iopub.status.busy": "2024-05-29T20:07:59.820962Z",
          "iopub.status.idle": "2024-05-29T20:08:04.243428Z",
          "shell.execute_reply": "2024-05-29T20:08:04.242212Z",
          "shell.execute_reply.started": "2024-05-29T20:07:59.821709Z"
        },
        "id": "2VL2hSYDqi-c",
        "outputId": "d76bfb17-9466-40f5-f05c-42451501f539"
      },
      "outputs": [
        {
          "data": {
            "text/html": [
              "\n",
              "<style>\n",
              "    /* Turns off some styling */\n",
              "    progress {\n",
              "        /* gets rid of default border in Firefox and Opera. */\n",
              "        border: none;\n",
              "        /* Needs to be in here for Safari polyfill so background images work as expected. */\n",
              "        background-size: auto;\n",
              "    }\n",
              "    progress:not([value]), progress:not([value])::-webkit-progress-bar {\n",
              "        background: repeating-linear-gradient(45deg, #7e7e7e, #7e7e7e 10px, #5c5c5c 10px, #5c5c5c 20px);\n",
              "    }\n",
              "    .progress-bar-interrupted, .progress-bar-interrupted::-webkit-progress-bar {\n",
              "        background: #F44336;\n",
              "    }\n",
              "</style>\n"
            ],
            "text/plain": [
              "<IPython.core.display.HTML object>"
            ]
          },
          "metadata": {},
          "output_type": "display_data"
        },
        {
          "data": {
            "text/html": [],
            "text/plain": [
              "<IPython.core.display.HTML object>"
            ]
          },
          "metadata": {},
          "output_type": "display_data"
        },
        {
          "data": {
            "text/plain": [
              "[('bedroom', 'livingroom', 24),\n",
              " ('kitchen', 'livingroom', 9),\n",
              " ('opencountry', 'coast', 7),\n",
              " ('industrial', 'insidecity', 5),\n",
              " ('industrial', 'tallbuilding', 5),\n",
              " ('insidecity', 'street', 5),\n",
              " ('livingroom', 'bedroom', 5)]"
            ]
          },
          "execution_count": 16,
          "metadata": {},
          "output_type": "execute_result"
        }
      ],
      "source": [
        "interp.most_confused(min_val=5)"
      ]
    },
    {
      "cell_type": "code",
      "execution_count": null,
      "metadata": {
        "execution": {
          "iopub.execute_input": "2024-05-29T20:22:24.648408Z",
          "iopub.status.busy": "2024-05-29T20:22:24.647930Z",
          "iopub.status.idle": "2024-05-29T20:26:12.982316Z",
          "shell.execute_reply": "2024-05-29T20:26:12.980928Z",
          "shell.execute_reply.started": "2024-05-29T20:22:24.648335Z"
        },
        "id": "sLTC0w9Gqi-d",
        "outputId": "3be233b9-8f9b-4381-d5f7-9334664e8090"
      },
      "outputs": [
        {
          "data": {
            "text/html": [
              "\n",
              "<style>\n",
              "    /* Turns off some styling */\n",
              "    progress {\n",
              "        /* gets rid of default border in Firefox and Opera. */\n",
              "        border: none;\n",
              "        /* Needs to be in here for Safari polyfill so background images work as expected. */\n",
              "        background-size: auto;\n",
              "    }\n",
              "    progress:not([value]), progress:not([value])::-webkit-progress-bar {\n",
              "        background: repeating-linear-gradient(45deg, #7e7e7e, #7e7e7e 10px, #5c5c5c 10px, #5c5c5c 20px);\n",
              "    }\n",
              "    .progress-bar-interrupted, .progress-bar-interrupted::-webkit-progress-bar {\n",
              "        background: #F44336;\n",
              "    }\n",
              "</style>\n"
            ],
            "text/plain": [
              "<IPython.core.display.HTML object>"
            ]
          },
          "metadata": {},
          "output_type": "display_data"
        },
        {
          "data": {
            "text/html": [
              "<table border=\"1\" class=\"dataframe\">\n",
              "  <thead>\n",
              "    <tr style=\"text-align: left;\">\n",
              "      <th>epoch</th>\n",
              "      <th>train_loss</th>\n",
              "      <th>valid_loss</th>\n",
              "      <th>accuracy</th>\n",
              "      <th>time</th>\n",
              "    </tr>\n",
              "  </thead>\n",
              "  <tbody>\n",
              "    <tr>\n",
              "      <td>0</td>\n",
              "      <td>1.521945</td>\n",
              "      <td>0.687960</td>\n",
              "      <td>0.800667</td>\n",
              "      <td>00:16</td>\n",
              "    </tr>\n",
              "    <tr>\n",
              "      <td>1</td>\n",
              "      <td>0.806215</td>\n",
              "      <td>0.432586</td>\n",
              "      <td>0.870000</td>\n",
              "      <td>00:16</td>\n",
              "    </tr>\n",
              "    <tr>\n",
              "      <td>2</td>\n",
              "      <td>0.533546</td>\n",
              "      <td>0.335030</td>\n",
              "      <td>0.896000</td>\n",
              "      <td>00:15</td>\n",
              "    </tr>\n",
              "  </tbody>\n",
              "</table>"
            ],
            "text/plain": [
              "<IPython.core.display.HTML object>"
            ]
          },
          "metadata": {},
          "output_type": "display_data"
        },
        {
          "data": {
            "text/html": [
              "\n",
              "<style>\n",
              "    /* Turns off some styling */\n",
              "    progress {\n",
              "        /* gets rid of default border in Firefox and Opera. */\n",
              "        border: none;\n",
              "        /* Needs to be in here for Safari polyfill so background images work as expected. */\n",
              "        background-size: auto;\n",
              "    }\n",
              "    progress:not([value]), progress:not([value])::-webkit-progress-bar {\n",
              "        background: repeating-linear-gradient(45deg, #7e7e7e, #7e7e7e 10px, #5c5c5c 10px, #5c5c5c 20px);\n",
              "    }\n",
              "    .progress-bar-interrupted, .progress-bar-interrupted::-webkit-progress-bar {\n",
              "        background: #F44336;\n",
              "    }\n",
              "</style>\n"
            ],
            "text/plain": [
              "<IPython.core.display.HTML object>"
            ]
          },
          "metadata": {},
          "output_type": "display_data"
        },
        {
          "data": {
            "text/html": [
              "<table border=\"1\" class=\"dataframe\">\n",
              "  <thead>\n",
              "    <tr style=\"text-align: left;\">\n",
              "      <th>epoch</th>\n",
              "      <th>train_loss</th>\n",
              "      <th>valid_loss</th>\n",
              "      <th>accuracy</th>\n",
              "      <th>time</th>\n",
              "    </tr>\n",
              "  </thead>\n",
              "  <tbody>\n",
              "    <tr>\n",
              "      <td>0</td>\n",
              "      <td>0.368928</td>\n",
              "      <td>0.326155</td>\n",
              "      <td>0.897333</td>\n",
              "      <td>00:17</td>\n",
              "    </tr>\n",
              "    <tr>\n",
              "      <td>1</td>\n",
              "      <td>0.344234</td>\n",
              "      <td>0.319594</td>\n",
              "      <td>0.900667</td>\n",
              "      <td>00:18</td>\n",
              "    </tr>\n",
              "    <tr>\n",
              "      <td>2</td>\n",
              "      <td>0.318476</td>\n",
              "      <td>0.313824</td>\n",
              "      <td>0.901333</td>\n",
              "      <td>00:18</td>\n",
              "    </tr>\n",
              "    <tr>\n",
              "      <td>3</td>\n",
              "      <td>0.315878</td>\n",
              "      <td>0.297941</td>\n",
              "      <td>0.902667</td>\n",
              "      <td>00:17</td>\n",
              "    </tr>\n",
              "    <tr>\n",
              "      <td>4</td>\n",
              "      <td>0.307851</td>\n",
              "      <td>0.302107</td>\n",
              "      <td>0.905333</td>\n",
              "      <td>00:17</td>\n",
              "    </tr>\n",
              "    <tr>\n",
              "      <td>5</td>\n",
              "      <td>0.276704</td>\n",
              "      <td>0.299177</td>\n",
              "      <td>0.904000</td>\n",
              "      <td>00:17</td>\n",
              "    </tr>\n",
              "    <tr>\n",
              "      <td>6</td>\n",
              "      <td>0.269352</td>\n",
              "      <td>0.300965</td>\n",
              "      <td>0.904667</td>\n",
              "      <td>00:18</td>\n",
              "    </tr>\n",
              "    <tr>\n",
              "      <td>7</td>\n",
              "      <td>0.266139</td>\n",
              "      <td>0.292586</td>\n",
              "      <td>0.902667</td>\n",
              "      <td>00:17</td>\n",
              "    </tr>\n",
              "    <tr>\n",
              "      <td>8</td>\n",
              "      <td>0.256913</td>\n",
              "      <td>0.292216</td>\n",
              "      <td>0.905333</td>\n",
              "      <td>00:18</td>\n",
              "    </tr>\n",
              "    <tr>\n",
              "      <td>9</td>\n",
              "      <td>0.263991</td>\n",
              "      <td>0.301221</td>\n",
              "      <td>0.905333</td>\n",
              "      <td>00:17</td>\n",
              "    </tr>\n",
              "  </tbody>\n",
              "</table>"
            ],
            "text/plain": [
              "<IPython.core.display.HTML object>"
            ]
          },
          "metadata": {},
          "output_type": "display_data"
        }
      ],
      "source": [
        "learn = vision_learner(dls, resnet18, metrics=accuracy)\n",
        "learn.fit_one_cycle(3, 3e-3)\n",
        "learn.unfreeze()\n",
        "learn.fit_one_cycle(10, lr_max=slice(6e-6,1e-5))\n"
      ]
    },
    {
      "cell_type": "code",
      "execution_count": null,
      "metadata": {
        "execution": {
          "iopub.execute_input": "2024-05-29T20:17:31.867881Z",
          "iopub.status.busy": "2024-05-29T20:17:31.866646Z",
          "iopub.status.idle": "2024-05-29T20:20:31.638718Z",
          "shell.execute_reply": "2024-05-29T20:20:31.636888Z",
          "shell.execute_reply.started": "2024-05-29T20:17:31.867875Z"
        },
        "id": "3T4OsyZwqi-e",
        "outputId": "acc45237-9330-45db-ebd0-b65bdc0cdfb2"
      },
      "outputs": [
        {
          "data": {
            "text/html": [
              "\n",
              "<style>\n",
              "    /* Turns off some styling */\n",
              "    progress {\n",
              "        /* gets rid of default border in Firefox and Opera. */\n",
              "        border: none;\n",
              "        /* Needs to be in here for Safari polyfill so background images work as expected. */\n",
              "        background-size: auto;\n",
              "    }\n",
              "    progress:not([value]), progress:not([value])::-webkit-progress-bar {\n",
              "        background: repeating-linear-gradient(45deg, #7e7e7e, #7e7e7e 10px, #5c5c5c 10px, #5c5c5c 20px);\n",
              "    }\n",
              "    .progress-bar-interrupted, .progress-bar-interrupted::-webkit-progress-bar {\n",
              "        background: #F44336;\n",
              "    }\n",
              "</style>\n"
            ],
            "text/plain": [
              "<IPython.core.display.HTML object>"
            ]
          },
          "metadata": {},
          "output_type": "display_data"
        },
        {
          "data": {
            "text/html": [
              "<table border=\"1\" class=\"dataframe\">\n",
              "  <thead>\n",
              "    <tr style=\"text-align: left;\">\n",
              "      <th>epoch</th>\n",
              "      <th>train_loss</th>\n",
              "      <th>valid_loss</th>\n",
              "      <th>accuracy</th>\n",
              "      <th>time</th>\n",
              "    </tr>\n",
              "  </thead>\n",
              "  <tbody>\n",
              "    <tr>\n",
              "      <td>0</td>\n",
              "      <td>0.304295</td>\n",
              "      <td>0.315414</td>\n",
              "      <td>0.908667</td>\n",
              "      <td>00:18</td>\n",
              "    </tr>\n",
              "    <tr>\n",
              "      <td>1</td>\n",
              "      <td>0.316390</td>\n",
              "      <td>0.319534</td>\n",
              "      <td>0.906000</td>\n",
              "      <td>00:18</td>\n",
              "    </tr>\n",
              "    <tr>\n",
              "      <td>2</td>\n",
              "      <td>0.322137</td>\n",
              "      <td>0.317702</td>\n",
              "      <td>0.909333</td>\n",
              "      <td>00:18</td>\n",
              "    </tr>\n",
              "    <tr>\n",
              "      <td>3</td>\n",
              "      <td>0.301082</td>\n",
              "      <td>0.320903</td>\n",
              "      <td>0.904000</td>\n",
              "      <td>00:18</td>\n",
              "    </tr>\n",
              "    <tr>\n",
              "      <td>4</td>\n",
              "      <td>0.292896</td>\n",
              "      <td>0.306920</td>\n",
              "      <td>0.908000</td>\n",
              "      <td>00:17</td>\n",
              "    </tr>\n",
              "    <tr>\n",
              "      <td>5</td>\n",
              "      <td>0.281521</td>\n",
              "      <td>0.303216</td>\n",
              "      <td>0.909333</td>\n",
              "      <td>00:17</td>\n",
              "    </tr>\n",
              "    <tr>\n",
              "      <td>6</td>\n",
              "      <td>0.269221</td>\n",
              "      <td>0.312383</td>\n",
              "      <td>0.909333</td>\n",
              "      <td>00:17</td>\n",
              "    </tr>\n",
              "    <tr>\n",
              "      <td>7</td>\n",
              "      <td>0.263937</td>\n",
              "      <td>0.307283</td>\n",
              "      <td>0.908667</td>\n",
              "      <td>00:17</td>\n",
              "    </tr>\n",
              "    <tr>\n",
              "      <td>8</td>\n",
              "      <td>0.269084</td>\n",
              "      <td>0.308938</td>\n",
              "      <td>0.911333</td>\n",
              "      <td>00:17</td>\n",
              "    </tr>\n",
              "    <tr>\n",
              "      <td>9</td>\n",
              "      <td>0.278894</td>\n",
              "      <td>0.307433</td>\n",
              "      <td>0.910667</td>\n",
              "      <td>00:17</td>\n",
              "    </tr>\n",
              "  </tbody>\n",
              "</table>"
            ],
            "text/plain": [
              "<IPython.core.display.HTML object>"
            ]
          },
          "metadata": {},
          "output_type": "display_data"
        }
      ],
      "source": [
        "learn.fit_one_cycle(10, lr_max=slice(6e-7,1e-5))\n"
      ]
    },
    {
      "cell_type": "code",
      "execution_count": null,
      "metadata": {
        "id": "4xBM4xyAqi-e"
      },
      "outputs": [],
      "source": []
    }
  ],
  "metadata": {
    "accelerator": "GPU",
    "colab": {
      "gpuType": "T4",
      "provenance": [],
      "include_colab_link": true
    },
    "kernelspec": {
      "display_name": "Python 3 (ipykernel)",
      "language": "python",
      "name": "python3"
    },
    "language_info": {
      "codemirror_mode": {
        "name": "ipython",
        "version": 3
      },
      "file_extension": ".py",
      "mimetype": "text/x-python",
      "name": "python",
      "nbconvert_exporter": "python",
      "pygments_lexer": "ipython3",
      "version": "3.9.13"
    }
  },
  "nbformat": 4,
  "nbformat_minor": 0
}